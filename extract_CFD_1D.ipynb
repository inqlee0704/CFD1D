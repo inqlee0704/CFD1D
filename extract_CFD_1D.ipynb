{
 "cells": [
  {
   "cell_type": "code",
   "execution_count": 23,
   "metadata": {},
   "outputs": [],
   "source": [
    "import pandas as pd"
   ]
  },
  {
   "cell_type": "code",
   "execution_count": 24,
   "metadata": {},
   "outputs": [],
   "source": [
    "\n",
    "# Config = CFG()\n",
    "# Proj = Config.Proj\n",
    "# plt_nd_path = os.path.join('data_plt_nd_csv',Config.plt_nd_file)\n",
    "\n",
    "Proj = \"SABD\"\n",
    "Subj = \"50068\"\n",
    "plt_nd_path = \"plt_nd_000025.csv\"\n",
    "plt_df = pd.read_csv(plt_nd_path)\n",
    "# Need to update *: get df from demo\n",
    "df = pd.DataFrame({\"Proj\": [Proj], \"Subj\": [Subj]})\n",
    "\n",
    "Img1 = \"TLC0\"\n",
    "Img2 = \"RV0\"\n"
   ]
  },
  {
   "cell_type": "code",
   "execution_count": 25,
   "metadata": {},
   "outputs": [],
   "source": [
    "df_lu = plt_df[plt_df.i_lobe==1]\n",
    "df_ll = plt_df[plt_df.i_lobe==2]\n",
    "df_ru = plt_df[plt_df.i_lobe==3]\n",
    "df_rm = plt_df[plt_df.i_lobe==4]\n",
    "df_rl = plt_df[plt_df.i_lobe==5]\n",
    "df_all = plt_df[plt_df.i_lobe!=0]"
   ]
  },
  {
   "cell_type": "code",
   "execution_count": 26,
   "metadata": {},
   "outputs": [],
   "source": [
    "# Mean pressure at the terminal bronchioles\n",
    "p_lu = df_lu[df_lu.i_ho==1].p.mean()\n",
    "p_ll = df_ll[df_ll.i_ho==1].p.mean()\n",
    "p_ru = df_ru[df_ru.i_ho==1].p.mean()\n",
    "p_rm = df_rm[df_rm.i_ho==1].p.mean()\n",
    "p_rl = df_rl[df_rl.i_ho==1].p.mean()\n",
    "p_all = df_all[df_all.i_ho==1].p.mean()\n",
    "\n",
    "df[f\"P_t_LUL_{Img1}_{Img2}\"]= p_lu\n",
    "df[f\"P_t_LLL_{Img1}_{Img2}\"]= p_ll\n",
    "df[f\"P_t_RUL_{Img1}_{Img2}\"]= p_ru\n",
    "df[f\"P_t_RML_{Img1}_{Img2}\"]= p_rm\n",
    "df[f\"P_t_RLL_{Img1}_{Img2}\"]= p_rl\n",
    "df[f\"P_t_All_{Img1}_{Img2}\"]= p_all\n",
    "\n",
    "# Mean Flow rate factions\n",
    "ff_lu = df_lu[df_lu.i_ho==1].flow_fr.mean()\n",
    "ff_ll = df_ll[df_ll.i_ho==1].flow_fr.mean()\n",
    "ff_ru = df_ru[df_ru.i_ho==1].flow_fr.mean()\n",
    "ff_rm = df_rm[df_rm.i_ho==1].flow_fr.mean()\n",
    "ff_rl = df_rl[df_rl.i_ho==1].flow_fr.mean()\n",
    "ff_all = df_all[df_all.i_ho==1].flow_fr.mean()\n",
    "\n",
    "df[f\"FF_LUL_{Img1}_{Img2}\"]= ff_lu\n",
    "df[f\"FF_LLL_{Img1}_{Img2}\"]= ff_ll\n",
    "df[f\"FF_RUL_{Img1}_{Img2}\"]= ff_ru\n",
    "df[f\"FF_RML_{Img1}_{Img2}\"]= ff_rm\n",
    "df[f\"FF_RLL_{Img1}_{Img2}\"]= ff_rl\n",
    "df[f\"FF_ALL_{Img1}_{Img2}\"]= ff_all\n",
    "\n",
    "# flow rate\n",
    "fr_lu = df_lu[df_lu.i_ho==1].flowrate.sum()\n",
    "fr_ll = df_ll[df_ll.i_ho==1].flowrate.sum()\n",
    "fr_ru = df_ru[df_ru.i_ho==1].flowrate.sum()\n",
    "fr_rm = df_rm[df_rm.i_ho==1].flowrate.sum()\n",
    "fr_rl = df_rl[df_rl.i_ho==1].flowrate.sum()\n",
    "fr_all = df_all[df_all.i_ho==1].flowrate.sum()\n",
    "\n",
    "df[f\"FR_LUL_{Img1}_{Img2}\"]= fr_lu\n",
    "df[f\"FR_LLL_{Img1}_{Img2}\"]= fr_ll\n",
    "df[f\"FR_RUL_{Img1}_{Img2}\"]= fr_ru\n",
    "df[f\"FR_RML_{Img1}_{Img2}\"]= fr_rm\n",
    "df[f\"FR_RLL_{Img1}_{Img2}\"]= fr_rl\n",
    "df[f\"FR_ALL_{Img1}_{Img2}\"]= fr_all\n",
    "\n",
    "# airway resistance = pressure /flow_rate\n",
    "ar_lu = p_lu/fr_lu\n",
    "ar_ll = p_ll/p_ll\n",
    "ar_ru = p_ru/p_ru\n",
    "ar_rm = p_rm/p_rm\n",
    "ar_rl = p_rl/p_rl\n",
    "ar_all =p_all/p_all"
   ]
  },
  {
   "cell_type": "code",
   "execution_count": 27,
   "metadata": {},
   "outputs": [
    {
     "data": {
      "text/html": [
       "<div>\n",
       "<style scoped>\n",
       "    .dataframe tbody tr th:only-of-type {\n",
       "        vertical-align: middle;\n",
       "    }\n",
       "\n",
       "    .dataframe tbody tr th {\n",
       "        vertical-align: top;\n",
       "    }\n",
       "\n",
       "    .dataframe thead th {\n",
       "        text-align: right;\n",
       "    }\n",
       "</style>\n",
       "<table border=\"1\" class=\"dataframe\">\n",
       "  <thead>\n",
       "    <tr style=\"text-align: right;\">\n",
       "      <th></th>\n",
       "      <th>Proj</th>\n",
       "      <th>Subj</th>\n",
       "      <th>P_t_LUL_TLC0_RV0</th>\n",
       "      <th>P_t_LLL_TLC0_RV0</th>\n",
       "      <th>P_t_RUL_TLC0_RV0</th>\n",
       "      <th>P_t_RML_TLC0_RV0</th>\n",
       "      <th>P_t_RLL_TLC0_RV0</th>\n",
       "      <th>P_t_All_TLC0_RV0</th>\n",
       "    </tr>\n",
       "  </thead>\n",
       "  <tbody>\n",
       "    <tr>\n",
       "      <th>0</th>\n",
       "      <td>SABD</td>\n",
       "      <td>50068</td>\n",
       "      <td>-13.115506</td>\n",
       "      <td>-7.079364</td>\n",
       "      <td>-6.977521</td>\n",
       "      <td>-5.252477</td>\n",
       "      <td>-10.420413</td>\n",
       "      <td>-9.116802</td>\n",
       "    </tr>\n",
       "  </tbody>\n",
       "</table>\n",
       "</div>"
      ],
      "text/plain": [
       "   Proj   Subj  P_t_LUL_TLC0_RV0  P_t_LLL_TLC0_RV0  P_t_RUL_TLC0_RV0  \\\n",
       "0  SABD  50068        -13.115506         -7.079364         -6.977521   \n",
       "\n",
       "   P_t_RML_TLC0_RV0  P_t_RLL_TLC0_RV0  P_t_All_TLC0_RV0  \n",
       "0         -5.252477        -10.420413         -9.116802  "
      ]
     },
     "execution_count": 27,
     "metadata": {},
     "output_type": "execute_result"
    }
   ],
   "source": [
    "\n",
    "\n",
    "df[f\"FF_LUL_{Img1}_{Img2}\"]= ff_lu\n",
    "df[f\"FF_LLL_{Img1}_{Img2}\"]= ff_ll\n",
    "df[f\"FF_RUL_{Img1}_{Img2}\"]= ff_ru\n",
    "df[f\"FF_RML_{Img1}_{Img2}\"]= ff_rm\n",
    "df[f\"FF_RLL_{Img1}_{Img2}\"]= ff_rl\n",
    "df[f\"FF_ALL_{Img1}_{Img2}\"]= ff_all\n",
    "\n"
   ]
  },
  {
   "cell_type": "code",
   "execution_count": 22,
   "metadata": {},
   "outputs": [
    {
     "data": {
      "text/html": [
       "<div>\n",
       "<style scoped>\n",
       "    .dataframe tbody tr th:only-of-type {\n",
       "        vertical-align: middle;\n",
       "    }\n",
       "\n",
       "    .dataframe tbody tr th {\n",
       "        vertical-align: top;\n",
       "    }\n",
       "\n",
       "    .dataframe thead th {\n",
       "        text-align: right;\n",
       "    }\n",
       "</style>\n",
       "<table border=\"1\" class=\"dataframe\">\n",
       "  <thead>\n",
       "    <tr style=\"text-align: right;\">\n",
       "      <th></th>\n",
       "      <th>Proj</th>\n",
       "      <th>Subj</th>\n",
       "      <th>P_LUL_TLC0_RV0</th>\n",
       "      <th>P_LLL_TLC0_RV0</th>\n",
       "      <th>P_RUL_TLC0_RV0</th>\n",
       "      <th>P_RML_TLC0_RV0</th>\n",
       "      <th>P_RLL_TLC0_RV0</th>\n",
       "      <th>P_All_TLC0_RV0</th>\n",
       "    </tr>\n",
       "  </thead>\n",
       "  <tbody>\n",
       "    <tr>\n",
       "      <th>0</th>\n",
       "      <td>SABD</td>\n",
       "      <td>50068</td>\n",
       "      <td>-13.115506</td>\n",
       "      <td>-7.079364</td>\n",
       "      <td>-6.977521</td>\n",
       "      <td>-5.252477</td>\n",
       "      <td>-10.420413</td>\n",
       "      <td>-9.116802</td>\n",
       "    </tr>\n",
       "  </tbody>\n",
       "</table>\n",
       "</div>"
      ],
      "text/plain": [
       "   Proj   Subj  P_LUL_TLC0_RV0  P_LLL_TLC0_RV0  P_RUL_TLC0_RV0  \\\n",
       "0  SABD  50068      -13.115506       -7.079364       -6.977521   \n",
       "\n",
       "   P_RML_TLC0_RV0  P_RLL_TLC0_RV0  P_All_TLC0_RV0  \n",
       "0       -5.252477      -10.420413       -9.116802  "
      ]
     },
     "execution_count": 22,
     "metadata": {},
     "output_type": "execute_result"
    }
   ],
   "source": [
    "df"
   ]
  },
  {
   "cell_type": "code",
   "execution_count": 14,
   "metadata": {},
   "outputs": [
    {
     "data": {
      "text/plain": [
       "6.4786852232486e-05"
      ]
     },
     "execution_count": 14,
     "metadata": {},
     "output_type": "execute_result"
    }
   ],
   "source": [
    "\n",
    "fr_lu"
   ]
  },
  {
   "cell_type": "code",
   "execution_count": 15,
   "metadata": {},
   "outputs": [
    {
     "data": {
      "text/plain": [
       "-202440.8593550711"
      ]
     },
     "execution_count": 15,
     "metadata": {},
     "output_type": "execute_result"
    }
   ],
   "source": [
    "ar_lu"
   ]
  }
 ],
 "metadata": {
  "interpreter": {
   "hash": "4d596e6b83ec43e15de0a3e3933e903c947b36643b67fa1d1de54000e4937e60"
  },
  "kernelspec": {
   "display_name": "Python 3.8.8 ('base')",
   "language": "python",
   "name": "python3"
  },
  "language_info": {
   "codemirror_mode": {
    "name": "ipython",
    "version": 3
   },
   "file_extension": ".py",
   "mimetype": "text/x-python",
   "name": "python",
   "nbconvert_exporter": "python",
   "pygments_lexer": "ipython3",
   "version": "3.7.9"
  },
  "orig_nbformat": 4
 },
 "nbformat": 4,
 "nbformat_minor": 2
}
