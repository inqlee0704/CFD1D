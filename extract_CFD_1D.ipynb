{
 "cells": [
  {
   "cell_type": "code",
   "execution_count": 11,
   "metadata": {},
   "outputs": [],
   "source": [
    "import pandas as pd"
   ]
  },
  {
   "cell_type": "code",
   "execution_count": 12,
   "metadata": {},
   "outputs": [],
   "source": [
    "\n",
    "# Config = CFG()\n",
    "# Proj = Config.Proj\n",
    "# plt_nd_path = os.path.join('data_plt_nd_csv',Config.plt_nd_file)\n",
    "\n",
    "Proj = \"SABD\"\n",
    "Subj = \"50068\"\n",
    "plt_nd_path = \"plt_nd_000025.csv\"\n",
    "plt_df = pd.read_csv(plt_nd_path)\n",
    "# Need to update *: get df from demo\n",
    "df = pd.DataFrame({\"Proj\": [Proj], \"Subj\": [Subj]})\n",
    "\n",
    "Img1 = \"TLC0\"\n",
    "Img2 = \"RV0\"\n"
   ]
  },
  {
   "cell_type": "code",
   "execution_count": 13,
   "metadata": {},
   "outputs": [],
   "source": [
    "df_lu = plt_df[plt_df.i_lobe==1]\n",
    "df_ll = plt_df[plt_df.i_lobe==2]\n",
    "df_ru = plt_df[plt_df.i_lobe==3]\n",
    "df_rm = plt_df[plt_df.i_lobe==4]\n",
    "df_rl = plt_df[plt_df.i_lobe==5]\n",
    "df_all = plt_df[plt_df.i_lobe!=0]"
   ]
  },
  {
   "cell_type": "code",
   "execution_count": 25,
   "metadata": {},
   "outputs": [],
   "source": [
    "Palv_LUL = df_lu[df_lu.i_ho == 1].p\n",
    "Palv_LLL = df_ll[df_ll.i_ho == 1].p\n",
    "Palv_RUL = df_ru[df_ru.i_ho == 1].p\n",
    "Palv_RML = df_rm[df_rm.i_ho == 1].p\n",
    "Palv_RLL = df_rl[df_rl.i_ho == 1].p\n",
    "Palv_All = df_all[df_all.i_ho == 1].p"
   ]
  },
  {
   "cell_type": "code",
   "execution_count": 32,
   "metadata": {},
   "outputs": [
    {
     "data": {
      "text/plain": [
       "30064"
      ]
     },
     "execution_count": 32,
     "metadata": {},
     "output_type": "execute_result"
    }
   ],
   "source": [
    "Palv_All.count()"
   ]
  },
  {
   "cell_type": "code",
   "execution_count": 14,
   "metadata": {},
   "outputs": [],
   "source": [
    "# Mean pressure at the terminal bronchioles\n",
    "p_lu = df_lu[df_lu.i_ho==1].p.mean()\n",
    "p_ll = df_ll[df_ll.i_ho==1].p.mean()\n",
    "p_ru = df_ru[df_ru.i_ho==1].p.mean()\n",
    "p_rm = df_rm[df_rm.i_ho==1].p.mean()\n",
    "p_rl = df_rl[df_rl.i_ho==1].p.mean()\n",
    "p_all = df_all[df_all.i_ho==1].p.mean()\n",
    "\n",
    "df[f\"P_t_LUL_{Img1}_{Img2}\"]= p_lu\n",
    "df[f\"P_t_LLL_{Img1}_{Img2}\"]= p_ll\n",
    "df[f\"P_t_RUL_{Img1}_{Img2}\"]= p_ru\n",
    "df[f\"P_t_RML_{Img1}_{Img2}\"]= p_rm\n",
    "df[f\"P_t_RLL_{Img1}_{Img2}\"]= p_rl\n",
    "df[f\"P_t_All_{Img1}_{Img2}\"]= p_all\n",
    "\n",
    "# Mean Flow rate factions\n",
    "ff_lu = df_lu[df_lu.i_ho==1].flow_fr.mean()\n",
    "ff_ll = df_ll[df_ll.i_ho==1].flow_fr.mean()\n",
    "ff_ru = df_ru[df_ru.i_ho==1].flow_fr.mean()\n",
    "ff_rm = df_rm[df_rm.i_ho==1].flow_fr.mean()\n",
    "ff_rl = df_rl[df_rl.i_ho==1].flow_fr.mean()\n",
    "ff_all = df_all[df_all.i_ho==1].flow_fr.mean()\n",
    "\n",
    "df[f\"FF_LUL_{Img1}_{Img2}\"]= ff_lu\n",
    "df[f\"FF_LLL_{Img1}_{Img2}\"]= ff_ll\n",
    "df[f\"FF_RUL_{Img1}_{Img2}\"]= ff_ru\n",
    "df[f\"FF_RML_{Img1}_{Img2}\"]= ff_rm\n",
    "df[f\"FF_RLL_{Img1}_{Img2}\"]= ff_rl\n",
    "df[f\"FF_ALL_{Img1}_{Img2}\"]= ff_all\n",
    "\n",
    "# flow rate\n",
    "fr_lu = df_lu[df_lu.i_ho==1].flowrate.sum()\n",
    "fr_ll = df_ll[df_ll.i_ho==1].flowrate.sum()\n",
    "fr_ru = df_ru[df_ru.i_ho==1].flowrate.sum()\n",
    "fr_rm = df_rm[df_rm.i_ho==1].flowrate.sum()\n",
    "fr_rl = df_rl[df_rl.i_ho==1].flowrate.sum()\n",
    "fr_all = df_all[df_all.i_ho==1].flowrate.sum()\n",
    "\n",
    "df[f\"FR_LUL_{Img1}_{Img2}\"]= fr_lu\n",
    "df[f\"FR_LLL_{Img1}_{Img2}\"]= fr_ll\n",
    "df[f\"FR_RUL_{Img1}_{Img2}\"]= fr_ru\n",
    "df[f\"FR_RML_{Img1}_{Img2}\"]= fr_rm\n",
    "df[f\"FR_RLL_{Img1}_{Img2}\"]= fr_rl\n",
    "df[f\"FR_ALL_{Img1}_{Img2}\"]= fr_all\n",
    "\n",
    "# airway resistance = pressure /flow_rate\n",
    "ar_lu = p_lu/fr_lu\n",
    "ar_ll = p_ll/p_ll\n",
    "ar_ru = p_ru/p_ru\n",
    "ar_rm = p_rm/p_rm\n",
    "ar_rl = p_rl/p_rl\n",
    "ar_all =p_all/p_all"
   ]
  },
  {
   "cell_type": "code",
   "execution_count": 19,
   "metadata": {},
   "outputs": [],
   "source": [
    "pw_lu = df_lu[df_lu.i_ho == 1].flowrate * df_lu[df_lu.i_ho == 1].p"
   ]
  },
  {
   "cell_type": "code",
   "execution_count": 20,
   "metadata": {},
   "outputs": [
    {
     "data": {
      "text/plain": [
       "-1.2001952369233705e-07"
      ]
     },
     "execution_count": 20,
     "metadata": {},
     "output_type": "execute_result"
    }
   ],
   "source": [
    "pw_lu.mean()"
   ]
  },
  {
   "cell_type": "code",
   "execution_count": 5,
   "metadata": {},
   "outputs": [],
   "source": [
    "\n",
    "\n",
    "df[f\"FF_LUL_{Img1}_{Img2}\"]= ff_lu\n",
    "df[f\"FF_LLL_{Img1}_{Img2}\"]= ff_ll\n",
    "df[f\"FF_RUL_{Img1}_{Img2}\"]= ff_ru\n",
    "df[f\"FF_RML_{Img1}_{Img2}\"]= ff_rm\n",
    "df[f\"FF_RLL_{Img1}_{Img2}\"]= ff_rl\n",
    "df[f\"FF_ALL_{Img1}_{Img2}\"]= ff_all\n",
    "\n"
   ]
  },
  {
   "cell_type": "code",
   "execution_count": 10,
   "metadata": {},
   "outputs": [
    {
     "ename": "AttributeError",
     "evalue": "'DataFrame' object has no attribute 'fr'",
     "output_type": "error",
     "traceback": [
      "\u001b[0;31m---------------------------------------------------------------------------\u001b[0m",
      "\u001b[0;31mAttributeError\u001b[0m                            Traceback (most recent call last)",
      "\u001b[0;32m/tmp/ipykernel_257371/1898064162.py\u001b[0m in \u001b[0;36m<module>\u001b[0;34m\u001b[0m\n\u001b[0;32m----> 1\u001b[0;31m \u001b[0mdf_lu\u001b[0m\u001b[0;34m.\u001b[0m\u001b[0mp\u001b[0m\u001b[0;34m/\u001b[0m\u001b[0mdf_lu\u001b[0m\u001b[0;34m.\u001b[0m\u001b[0mfr\u001b[0m\u001b[0;34m\u001b[0m\u001b[0;34m\u001b[0m\u001b[0m\n\u001b[0m",
      "\u001b[0;32m~/anaconda3/lib/python3.8/site-packages/pandas/core/generic.py\u001b[0m in \u001b[0;36m__getattr__\u001b[0;34m(self, name)\u001b[0m\n\u001b[1;32m   5581\u001b[0m         ):\n\u001b[1;32m   5582\u001b[0m             \u001b[0;32mreturn\u001b[0m \u001b[0mself\u001b[0m\u001b[0;34m[\u001b[0m\u001b[0mname\u001b[0m\u001b[0;34m]\u001b[0m\u001b[0;34m\u001b[0m\u001b[0;34m\u001b[0m\u001b[0m\n\u001b[0;32m-> 5583\u001b[0;31m         \u001b[0;32mreturn\u001b[0m \u001b[0mobject\u001b[0m\u001b[0;34m.\u001b[0m\u001b[0m__getattribute__\u001b[0m\u001b[0;34m(\u001b[0m\u001b[0mself\u001b[0m\u001b[0;34m,\u001b[0m \u001b[0mname\u001b[0m\u001b[0;34m)\u001b[0m\u001b[0;34m\u001b[0m\u001b[0;34m\u001b[0m\u001b[0m\n\u001b[0m\u001b[1;32m   5584\u001b[0m \u001b[0;34m\u001b[0m\u001b[0m\n\u001b[1;32m   5585\u001b[0m     \u001b[0;32mdef\u001b[0m \u001b[0m__setattr__\u001b[0m\u001b[0;34m(\u001b[0m\u001b[0mself\u001b[0m\u001b[0;34m,\u001b[0m \u001b[0mname\u001b[0m\u001b[0;34m:\u001b[0m \u001b[0mstr\u001b[0m\u001b[0;34m,\u001b[0m \u001b[0mvalue\u001b[0m\u001b[0;34m)\u001b[0m \u001b[0;34m->\u001b[0m \u001b[0;32mNone\u001b[0m\u001b[0;34m:\u001b[0m\u001b[0;34m\u001b[0m\u001b[0;34m\u001b[0m\u001b[0m\n",
      "\u001b[0;31mAttributeError\u001b[0m: 'DataFrame' object has no attribute 'fr'"
     ]
    }
   ],
   "source": [
    "df_lu.p/df_lu.fr "
   ]
  },
  {
   "cell_type": "code",
   "execution_count": 6,
   "metadata": {},
   "outputs": [
    {
     "data": {
      "text/html": [
       "<div>\n",
       "<style scoped>\n",
       "    .dataframe tbody tr th:only-of-type {\n",
       "        vertical-align: middle;\n",
       "    }\n",
       "\n",
       "    .dataframe tbody tr th {\n",
       "        vertical-align: top;\n",
       "    }\n",
       "\n",
       "    .dataframe thead th {\n",
       "        text-align: right;\n",
       "    }\n",
       "</style>\n",
       "<table border=\"1\" class=\"dataframe\">\n",
       "  <thead>\n",
       "    <tr style=\"text-align: right;\">\n",
       "      <th></th>\n",
       "      <th>Proj</th>\n",
       "      <th>Subj</th>\n",
       "      <th>P_t_LUL_TLC0_RV0</th>\n",
       "      <th>P_t_LLL_TLC0_RV0</th>\n",
       "      <th>P_t_RUL_TLC0_RV0</th>\n",
       "      <th>P_t_RML_TLC0_RV0</th>\n",
       "      <th>P_t_RLL_TLC0_RV0</th>\n",
       "      <th>P_t_All_TLC0_RV0</th>\n",
       "      <th>FF_LUL_TLC0_RV0</th>\n",
       "      <th>FF_LLL_TLC0_RV0</th>\n",
       "      <th>FF_RUL_TLC0_RV0</th>\n",
       "      <th>FF_RML_TLC0_RV0</th>\n",
       "      <th>FF_RLL_TLC0_RV0</th>\n",
       "      <th>FF_ALL_TLC0_RV0</th>\n",
       "      <th>FR_LUL_TLC0_RV0</th>\n",
       "      <th>FR_LLL_TLC0_RV0</th>\n",
       "      <th>FR_RUL_TLC0_RV0</th>\n",
       "      <th>FR_RML_TLC0_RV0</th>\n",
       "      <th>FR_RLL_TLC0_RV0</th>\n",
       "      <th>FR_ALL_TLC0_RV0</th>\n",
       "    </tr>\n",
       "  </thead>\n",
       "  <tbody>\n",
       "    <tr>\n",
       "      <th>0</th>\n",
       "      <td>SABD</td>\n",
       "      <td>50068</td>\n",
       "      <td>-13.115506</td>\n",
       "      <td>-7.079364</td>\n",
       "      <td>-6.977521</td>\n",
       "      <td>-5.252477</td>\n",
       "      <td>-10.420413</td>\n",
       "      <td>-9.116802</td>\n",
       "      <td>0.000041</td>\n",
       "      <td>0.000031</td>\n",
       "      <td>0.000033</td>\n",
       "      <td>0.000027</td>\n",
       "      <td>0.000031</td>\n",
       "      <td>0.000033</td>\n",
       "      <td>0.000065</td>\n",
       "      <td>0.000035</td>\n",
       "      <td>0.000047</td>\n",
       "      <td>0.00002</td>\n",
       "      <td>0.000046</td>\n",
       "      <td>0.000212</td>\n",
       "    </tr>\n",
       "  </tbody>\n",
       "</table>\n",
       "</div>"
      ],
      "text/plain": [
       "   Proj   Subj  P_t_LUL_TLC0_RV0  P_t_LLL_TLC0_RV0  P_t_RUL_TLC0_RV0  \\\n",
       "0  SABD  50068        -13.115506         -7.079364         -6.977521   \n",
       "\n",
       "   P_t_RML_TLC0_RV0  P_t_RLL_TLC0_RV0  P_t_All_TLC0_RV0  FF_LUL_TLC0_RV0  \\\n",
       "0         -5.252477        -10.420413         -9.116802         0.000041   \n",
       "\n",
       "   FF_LLL_TLC0_RV0  FF_RUL_TLC0_RV0  FF_RML_TLC0_RV0  FF_RLL_TLC0_RV0  \\\n",
       "0         0.000031         0.000033         0.000027         0.000031   \n",
       "\n",
       "   FF_ALL_TLC0_RV0  FR_LUL_TLC0_RV0  FR_LLL_TLC0_RV0  FR_RUL_TLC0_RV0  \\\n",
       "0         0.000033         0.000065         0.000035         0.000047   \n",
       "\n",
       "   FR_RML_TLC0_RV0  FR_RLL_TLC0_RV0  FR_ALL_TLC0_RV0  \n",
       "0          0.00002         0.000046         0.000212  "
      ]
     },
     "execution_count": 6,
     "metadata": {},
     "output_type": "execute_result"
    }
   ],
   "source": [
    "df"
   ]
  },
  {
   "cell_type": "code",
   "execution_count": 14,
   "metadata": {},
   "outputs": [
    {
     "data": {
      "text/plain": [
       "6.4786852232486e-05"
      ]
     },
     "execution_count": 14,
     "metadata": {},
     "output_type": "execute_result"
    }
   ],
   "source": [
    "\n",
    "fr_lu"
   ]
  },
  {
   "cell_type": "code",
   "execution_count": 15,
   "metadata": {},
   "outputs": [
    {
     "data": {
      "text/plain": [
       "-202440.8593550711"
      ]
     },
     "execution_count": 15,
     "metadata": {},
     "output_type": "execute_result"
    }
   ],
   "source": [
    "ar_lu"
   ]
  }
 ],
 "metadata": {
  "interpreter": {
   "hash": "4d596e6b83ec43e15de0a3e3933e903c947b36643b67fa1d1de54000e4937e60"
  },
  "kernelspec": {
   "display_name": "Python 3.8.8 ('base')",
   "language": "python",
   "name": "python3"
  },
  "language_info": {
   "codemirror_mode": {
    "name": "ipython",
    "version": 3
   },
   "file_extension": ".py",
   "mimetype": "text/x-python",
   "name": "python",
   "nbconvert_exporter": "python",
   "pygments_lexer": "ipython3",
   "version": "3.8.3"
  },
  "orig_nbformat": 4
 },
 "nbformat": 4,
 "nbformat_minor": 2
}
